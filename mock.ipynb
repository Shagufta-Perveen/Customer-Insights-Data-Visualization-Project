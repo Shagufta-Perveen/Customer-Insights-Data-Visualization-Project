{
 "cells": [
  {
   "cell_type": "code",
   "execution_count": 9,
   "id": "7d3fdea4",
   "metadata": {},
   "outputs": [
    {
     "name": "stdout",
     "output_type": "stream",
     "text": [
      "acw_user_data.csv\n"
     ]
    }
   ],
   "source": [
    "import numpy as np\n",
    "import random\n",
    "\n",
    "# Define the data structure\n",
    "dtype = [\n",
    "    ('first_name', 'U10'), ('last_name', 'U10'), ('dependants', 'U5'), ('marital_status', 'U10'),\n",
    "    ('employer', 'U15'), ('retired', 'U5'), ('salary', 'i4'), ('commute_distance', 'i4'),\n",
    "    ('address', 'U25'), ('city', 'U15'), ('postcode', 'U10'),\n",
    "    ('car_make', 'U10'), ('car_model', 'U15'), ('car_year', 'i4'), ('car_type', 'U10'),\n",
    "    ('cc_start_date', 'U5'), ('cc_end_date', 'U5'), ('cc_number', 'U20'),\n",
    "    ('cc_security_code', 'U5'), ('cc_iban', 'U34')\n",
    "]\n",
    "\n",
    "# Sample data to randomly choose from\n",
    "first_names = [\"John\", \"Jane\", \"Alice\", \"Bob\", \"Emma\", \"David\", \"Sarah\", \"Liam\", \"Olivia\", \"Noah\"]\n",
    "last_names = [\"Doe\", \"Smith\", \"Wong\", \"Brown\", \"Davis\", \"Clark\", \"Lewis\", \"Hall\", \"Adams\", \"Evans\"]\n",
    "marital_statuses = [\"Single\", \"Married\", \"Divorced\", \"Widowed\"]\n",
    "employers = [\"TechCorp\", \"DataSolutions\", \"CleanEnergy\", \"\", \"HealthSys\"]\n",
    "cities = [\"New York\", \"Los Angeles\", \"Chicago\", \"Austin\", \"Miami\"]\n",
    "car_makes = [\"Toyota\", \"Honda\", \"Ford\", \"Chevy\", \"Tesla\"]\n",
    "car_models = [\"Camry\", \"Accord\", \"Escape\", \"Bolt\", \"Model 3\"]\n",
    "car_types = [\"Sedan\", \"SUV\", \"Hatchback\", \"Electric\"]\n",
    "streets = [\"Main St\", \"Sunset Blvd\", \"Park Ave\", \"Elm St\", \"Ocean Dr\"]\n",
    "ibans = [\"DE12500105170648489890\", \"DE89370400440532013000\", \"GB29NWBK60161331926819\",\n",
    "         \"US64SVBKUS6S3300958879\", \"FR7630006000011234567890189\"]\n",
    "\n",
    "# Generate 20 records\n",
    "records = []\n",
    "for i in range(20):\n",
    "    fname = np.random.choice(first_names)\n",
    "    lname = np.random.choice(last_names)\n",
    "    dependants = np.random.choice([\"0\", \"1\", \"2\", \"\", \" \"])\n",
    "    marital = np.random.choice(marital_statuses)\n",
    "    employer = np.random.choice(employers)\n",
    "    retired = \"True\" if employer == \"\" else \"False\"\n",
    "    salary = np.random.randint(30000, 120000)\n",
    "    commute = np.random.randint(0, 20)\n",
    "    address = f\"{np.random.randint(1, 999)} {np.random.choice(streets)}\"\n",
    "    city = np.random.choice(cities)\n",
    "    postcode = f\"{np.random.randint(10000, 99999)}\"\n",
    "    make = np.random.choice(car_makes)\n",
    "    model = np.random.choice(car_models)\n",
    "    year = np.random.randint(2005, 2023)\n",
    "    ctype = np.random.choice(car_types)\n",
    "    start = f\"{np.random.randint(1, 13):02}/{np.random.randint(10, 20)}\"\n",
    "    end = f\"{np.random.randint(1, 13):02}/{np.random.randint(25, 35)}\"\n",
    "    cc_num = str(random.randint(10**15, 10**16-1))\n",
    "    cc_sec = f\"{np.random.randint(100, 999)}\"\n",
    "    iban = np.random.choice(ibans)\n",
    "\n",
    "    records.append((fname, lname, dependants, marital, employer, retired, salary, commute,\n",
    "                    address, city, postcode,\n",
    "                    make, model, year, ctype,\n",
    "                    start, end, cc_num, cc_sec, iban))\n",
    "\n",
    "# Convert to structured array\n",
    "data = np.array(records, dtype=dtype)\n",
    "\n",
    "# Save to CSV\n",
    "np.savetxt(\"acw_user_data.csv\", data, delimiter=\",\", fmt='%s', header=\",\".join(data.dtype.names), comments='')\n",
    "\n",
    "print('acw_user_data.csv' )\n"
   ]
  },
  {
   "cell_type": "code",
   "execution_count": null,
   "id": "64d99284",
   "metadata": {},
   "outputs": [],
   "source": []
  }
 ],
 "metadata": {
  "kernelspec": {
   "display_name": "pandas",
   "language": "python",
   "name": "python3"
  },
  "language_info": {
   "codemirror_mode": {
    "name": "ipython",
    "version": 3
   },
   "file_extension": ".py",
   "mimetype": "text/x-python",
   "name": "python",
   "nbconvert_exporter": "python",
   "pygments_lexer": "ipython3",
   "version": "3.12.2"
  }
 },
 "nbformat": 4,
 "nbformat_minor": 5
}
